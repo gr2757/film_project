{
 "cells": [
  {
   "cell_type": "code",
   "execution_count": 2,
   "id": "18228ce9",
   "metadata": {},
   "outputs": [
    {
     "name": "stderr",
     "output_type": "stream",
     "text": [
      "/home/ec2-user/anaconda3/envs/python3/lib/python3.10/site-packages/pandas/core/computation/expressions.py:21: UserWarning: Pandas requires version '2.8.0' or newer of 'numexpr' (version '2.7.3' currently installed).\n",
      "  from pandas.core.computation.check import NUMEXPR_INSTALLED\n"
     ]
    }
   ],
   "source": [
    "from bs4 import BeautifulSoup\n",
    "import xml.etree.ElementTree as ET\n",
    "import pandas as pd\n",
    "import os\n",
    "import sqlite3"
   ]
  },
  {
   "cell_type": "code",
   "execution_count": null,
   "metadata": {},
   "outputs": [],
   "source": [
    "folder_path = \"/home/ec2-user/SageMaker/data/FullSetAFI\"\n",
    "data_parse_list = [] # Initialize an empty list to hold the parsed data\n",
    "# Loop through each file in the folder\n",
    "for filename in os.listdir(folder_path):\n",
    "\n",
    "    if filename.endswith(\".xml\"):\n",
    "        # Construct the full path to the XML file\n",
    "        xml_file_path = os.path.join(folder_path, filename)\n",
    "\n",
    "        # Parse the XML file\n",
    "        tree = ET.parse(xml_file_path)\n",
    "        root = tree.getroot()\n",
    "\n",
    "        contributors = root.findall('.//Contributor/ProductionCompany/NormalizedDisplayForm')\n",
    "        \n",
    "        # Extract producers and production companies\n",
    "        goid = root.find(\".//GOID\").text #search for the string \"GOID\" in the XML tree\n",
    "        film_name = root.find(\".//TitleAtt/Title\").text #search for the string \"Title\" in the XML tree\n",
    "        date_released = root.find(\".//NumericDate\").text #search for the string \"NumericDate\" in the XML tree\n",
    "        publisher_country = root.find(\".//PublicationInfo/Publisher/PublisherCountryName\") #search for the string \"PublisherCountryName\" in the XML tree\n",
    "        distribution_companies = root.findall(\".//ContribDescAtt[ContribDesc='Distribution Company']/../..\") #search for all the strings \"ContribDescAtt\" with \"ContribDesc\" equal to \"Distribution Company\" in the XML tree\n",
    "\n",
    "\n",
    "        if publisher_country is not None:\n",
    "            publisher_country = publisher_country.text #if there is information in the PublisherCountryName, extract the text\n",
    "        else:\n",
    "            publisher_country = \"NA\"\n",
    "\n",
    "\n",
    "        # Initialize lists to hold the extracted data\n",
    "        producers_list = []\n",
    "        production_companies_list = []\n",
    "        exec_producer_list = []\n",
    "        organization_name_list = []\n",
    "\n",
    "        for contributor in root.findall(\".//Contributor\"):\n",
    "            for producer in contributor.findall(\".//Producer\"):\n",
    "                producer_name = producer.findtext(\".//NormalizedDisplayForm\") #search for the string \"NormalizedDisplayForm\" in the XML tree\n",
    "                producers_list.append(producer_name) #add to the producers list\n",
    "\n",
    "            for production_company in contributor.findall(\".//ProductionCompany\"):\n",
    "                company_name = production_company.findtext(\".//NormalizedDisplayForm\") #search for the string \"NormalizedDisplayForm\" in the XML tree\n",
    "                production_companies_list.append(company_name) #add to the production companies list\n",
    " \n",
    "        for company in distribution_companies: \n",
    "            organization_name_element = company.find(\".//OrganizationNameAtt/OrganizationName\") #search for the string \"OrganizationName\" in the XML tree\n",
    "            if organization_name_element is not None: #check if the organization name element exists\n",
    "                organization_name = organization_name_element.text.strip() #extract the text and remove any leading or trailing whitespace\n",
    "                organization_name_list.append(organization_name) #add to the organization name list\n",
    "\n",
    "\n",
    "\n",
    "        # Create a dictionary for each movie\n",
    "        movie_dictionary = {\"Title\": film_name, \"GOID\": goid, \"Date\": date_released, \"Producer\": producers_list, \n",
    "                            \"Production_Companies\": production_companies_list, \"country\": publisher_country, \"distribution\": organization_name_list}\n",
    "\n",
    "        # Append the dictionary to the list\n",
    "        data_parse_list.append(movie_dictionary)\n",
    "    practice_movies_df = pd.DataFrame(data_parse_list) # Create a DataFrame from the list of dictionaries\n",
    "\n",
    "\n"
   ]
  },
  {
   "cell_type": "code",
   "execution_count": null,
   "metadata": {},
   "outputs": [],
   "source": [
    "#due to being in a virtual enviroment, I have to save the data as a pickle file that can be export via email as the final output. \n",
    "practice_movies_df.to_pickle(\"./FullSetFII_pickle.pkl\")\n"
   ]
  }
 ],
 "metadata": {
  "kernelspec": {
   "display_name": "conda_python3",
   "language": "python",
   "name": "conda_python3"
  },
  "language_info": {
   "codemirror_mode": {
    "name": "ipython",
    "version": 3
   },
   "file_extension": ".py",
   "mimetype": "text/x-python",
   "name": "python",
   "nbconvert_exporter": "python",
   "pygments_lexer": "ipython3",
   "version": "3.10.18"
  }
 },
 "nbformat": 4,
 "nbformat_minor": 5
}
